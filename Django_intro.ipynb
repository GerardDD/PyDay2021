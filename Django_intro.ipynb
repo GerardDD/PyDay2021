{
 "cells": [
  {
   "cell_type": "code",
   "execution_count": 2,
   "id": "4d1adc53",
   "metadata": {},
   "outputs": [
    {
     "name": "stdout",
     "output_type": "stream",
     "text": [
      "Collecting django\n",
      "  Using cached Django-3.2.9-py3-none-any.whl (7.9 MB)\n",
      "Collecting asgiref<4,>=3.3.2\n",
      "  Using cached asgiref-3.4.1-py3-none-any.whl (25 kB)\n",
      "Requirement already satisfied: pytz in /usr/local/Cellar/jupyterlab/3.1.10/libexec/lib/python3.9/site-packages (from django) (2021.1)\n",
      "Requirement already satisfied: sqlparse>=0.2.2 in /usr/local/Cellar/jupyterlab/3.1.10/libexec/lib/python3.9/site-packages (from django) (0.4.2)\n",
      "Installing collected packages: asgiref, django\n",
      "Successfully installed asgiref-3.4.1 django-3.2.9\n",
      "\u001b[33mWARNING: You are using pip version 21.2.4; however, version 21.3.1 is available.\n",
      "You should consider upgrading via the '/usr/local/Cellar/jupyterlab/3.1.10/libexec/bin/python3.9 -m pip install --upgrade pip' command.\u001b[0m\n"
     ]
    }
   ],
   "source": [
    "try:\n",
    "    import django\n",
    "except:\n",
    "    import sys\n",
    "    !{sys.executable} -m pip install django\n",
    "    import django\n"
   ]
  },
  {
   "cell_type": "markdown",
   "id": "d28a39fe",
   "metadata": {},
   "source": [
    "url amb el repositori de la charla:  github https://VChoubard/PyDay2021.git"
   ]
  },
  {
   "cell_type": "markdown",
   "id": "429fc58f",
   "metadata": {},
   "source": [
    "django-admin startproject nameoftheproject -> serveix per crear el projecte de Django"
   ]
  },
  {
   "cell_type": "markdown",
   "id": "6370b643",
   "metadata": {},
   "source": [
    "To run the server:  python3 manage.py runserver "
   ]
  },
  {
   "cell_type": "markdown",
   "id": "5fcc2bc7",
   "metadata": {},
   "source": [
    "Then go to http://127.0.0.1:8000/"
   ]
  },
  {
   "cell_type": "markdown",
   "id": "0aeb7273",
   "metadata": {},
   "source": [
    "Después creamos una app con: python3 manange.py startapp pet_profile2"
   ]
  },
  {
   "cell_type": "code",
   "execution_count": null,
   "id": "e3d45626",
   "metadata": {},
   "outputs": [],
   "source": []
  }
 ],
 "metadata": {
  "kernelspec": {
   "display_name": "Python 3 (ipykernel)",
   "language": "python",
   "name": "python3"
  },
  "language_info": {
   "codemirror_mode": {
    "name": "ipython",
    "version": 3
   },
   "file_extension": ".py",
   "mimetype": "text/x-python",
   "name": "python",
   "nbconvert_exporter": "python",
   "pygments_lexer": "ipython3",
   "version": "3.9.7"
  }
 },
 "nbformat": 4,
 "nbformat_minor": 5
}
