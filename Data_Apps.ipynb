{
 "cells": [
  {
   "cell_type": "markdown",
   "id": "ddc48847",
   "metadata": {},
   "source": [
    "## Data Apps with python"
   ]
  },
  {
   "cell_type": "markdown",
   "id": "acc123ec",
   "metadata": {},
   "source": [
    "Data apps es un producto que puede ofrecerse a un cliente"
   ]
  },
  {
   "cell_type": "markdown",
   "id": "712e2868",
   "metadata": {},
   "source": [
    "### Impedimentos"
   ]
  },
  {
   "cell_type": "markdown",
   "id": "3c796efc",
   "metadata": {},
   "source": [
    "Relación entre backend/frontend/arquitectura y datos.. por ejemplo si hacemos un cambio en un tipo de data , esto tiene mucha afectación en infraestructura por ejemplo"
   ]
  },
  {
   "cell_type": "markdown",
   "id": "250d5c2b",
   "metadata": {},
   "source": [
    "La idea de las data apps es que el propio analista de Datos , pueda gestionar todo esto sin necesidad de terceros, pudiendo llegar asi al user final"
   ]
  },
  {
   "cell_type": "markdown",
   "id": "1fa6d609",
   "metadata": {},
   "source": [
    "### Librerias útiles"
   ]
  },
  {
   "cell_type": "markdown",
   "id": "a8633a20",
   "metadata": {},
   "source": [
    "- plotly\n",
    "- streamlit"
   ]
  },
  {
   "cell_type": "markdown",
   "id": "fac34ea0",
   "metadata": {},
   "source": [
    "#### Plotly"
   ]
  },
  {
   "cell_type": "markdown",
   "id": "41899f1f",
   "metadata": {},
   "source": [
    "Con plotyly - dash, puedes juntar varias paginas con formato \"html\" y presentar los datos que se trabajan con python de forma muy estetica."
   ]
  },
  {
   "cell_type": "markdown",
   "id": "c3971f28",
   "metadata": {},
   "source": [
    "Este html que se genera desde python, puede luego alojarse en una web. Pero esto ya implica volver a interaccionar con terceros.."
   ]
  },
  {
   "cell_type": "markdown",
   "id": "eb937552",
   "metadata": {},
   "source": [
    "#### Streamlit"
   ]
  },
  {
   "cell_type": "markdown",
   "id": "8205d234",
   "metadata": {},
   "source": [
    "Streamlit simplifica el proceso de montar el html (permite  inputs, checks, radiobuttons) y lo adapta a lenguaje python, a diferencia de plotly donde tenemos que montar la información en formato html"
   ]
  },
  {
   "cell_type": "markdown",
   "id": "61e00c55",
   "metadata": {},
   "source": [
    "En definitiva: plotly es más potente pero más complejo, mientras que streamlit no permite realizar productos tan complejos, pero es mucho más directo y sencillo de programar"
   ]
  },
  {
   "cell_type": "markdown",
   "id": "d9bd8c44",
   "metadata": {},
   "source": [
    "### En que punto estamos ahora?"
   ]
  },
  {
   "cell_type": "markdown",
   "id": "e51640b7",
   "metadata": {},
   "source": [
    "Con plotly o streamlit, nos saltamos un poco la parte de react/angular (front) pero seguimos necesitando de un devops que nos aloje el html para poder presentarla al usuario final , y un backend que gestione la base de datos"
   ]
  },
  {
   "cell_type": "markdown",
   "id": "4207e982",
   "metadata": {},
   "source": [
    "### Next steps"
   ]
  },
  {
   "cell_type": "markdown",
   "id": "56941b38",
   "metadata": {},
   "source": [
    "Con Flask podemos tener la API gestionada, y con SQL Alchemy podemos gestionar la database.. pero esto lleva tiempo y no es escalable, tiene que ser muy hecho a \"mano\" y necesita de conocimientos en todos estos ámbitos"
   ]
  },
  {
   "cell_type": "markdown",
   "id": "c5de3e15",
   "metadata": {},
   "source": [
    "Con productos de BI tipo tableu, tenemos una solución \"parcial/incorrecta\", podemos presentar datos de forma interna, pero no es muy comodo para exportar y tratar esos datos y tampoco es 100% bonito para presentarlo a un usuario final"
   ]
  },
  {
   "cell_type": "markdown",
   "id": "108162a5",
   "metadata": {},
   "source": [
    "### ¿Entonces que? \"Data is shapeless\""
   ]
  },
  {
   "cell_type": "markdown",
   "id": "6538ed3f",
   "metadata": {},
   "source": [
    "Hay que superar: limite de usuarios sin necesidad de un front-end, control de acceso sin backend"
   ]
  },
  {
   "cell_type": "markdown",
   "id": "5e1d39bb",
   "metadata": {},
   "source": [
    "### Ejemplo de data app: Shimoku "
   ]
  },
  {
   "cell_type": "markdown",
   "id": "5ead87ac",
   "metadata": {},
   "source": [
    "Shimoku se basa en una \"arquitectura liquida\" que permita hacer cambios en la infraestructura, tal y como hariamos con la data, y que además tenga toda esta gestión de usuarios, accesos, etc.."
   ]
  },
  {
   "cell_type": "markdown",
   "id": "92849d18",
   "metadata": {},
   "source": [
    "Shimoku crea diccionarios a medida en función del dato que recibe del source. Estos diccionarios permite cambiar tipo de dato, acceso usuario, etc.. permiten la flexibilidad propia de python"
   ]
  },
  {
   "cell_type": "markdown",
   "id": "f81f2553",
   "metadata": {},
   "source": [
    "Shimoku necesita de un programador de data que pueda mandar esta metadata a través de una API que servirá luego para construir dichos diccionarios"
   ]
  },
  {
   "cell_type": "markdown",
   "id": "2b3fe4a1",
   "metadata": {},
   "source": [
    "Una vez tiene todos estos datos recogidos, shimoku monta un dataframe y lo presenta visualmente en la app"
   ]
  },
  {
   "cell_type": "markdown",
   "id": "0b54aefc",
   "metadata": {},
   "source": [
    "Nota: La libreria apache echarts contiene un monton de plantillas de graficos"
   ]
  },
  {
   "cell_type": "markdown",
   "id": "b2076f93",
   "metadata": {},
   "source": [
    "### ¿Cuál es el futuro?"
   ]
  },
  {
   "cell_type": "markdown",
   "id": "f81e140a",
   "metadata": {},
   "source": [
    "La idea para los data analyst, es poder ser completamente independientes para trabajar con data y ser capaces de presentarla al usuario sin tener necesidad de un equipo de backend/frontend detrás."
   ]
  },
  {
   "cell_type": "code",
   "execution_count": null,
   "id": "4a4244c9",
   "metadata": {},
   "outputs": [],
   "source": []
  }
 ],
 "metadata": {
  "kernelspec": {
   "display_name": "Python 3 (ipykernel)",
   "language": "python",
   "name": "python3"
  },
  "language_info": {
   "codemirror_mode": {
    "name": "ipython",
    "version": 3
   },
   "file_extension": ".py",
   "mimetype": "text/x-python",
   "name": "python",
   "nbconvert_exporter": "python",
   "pygments_lexer": "ipython3",
   "version": "3.9.7"
  }
 },
 "nbformat": 4,
 "nbformat_minor": 5
}
